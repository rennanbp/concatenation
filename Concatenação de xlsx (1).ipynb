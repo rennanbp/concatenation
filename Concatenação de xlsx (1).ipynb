{
 "cells": [
  {
   "cell_type": "code",
   "execution_count": 18,
   "id": "062f2b37",
   "metadata": {},
   "outputs": [
    {
     "name": "stdout",
     "output_type": "stream",
     "text": [
      "Concatenation completed\n"
     ]
    }
   ],
   "source": [
    "import pandas as pd\n",
    "\n",
    "data_folder = 'Data_analyse'\n",
    "df = [pd.read_excel(os.path.join(data_folder, file)) for file in os.listdir(data_folder) if file.endswith('.xlsx')]\n",
    "if df:\n",
    "    df_principal = pd.concat(df, axis=0)\n",
    "    df_principal.to_excel(os.path.join(data_folder, 'concatenado.xlsx'), index=False)\n",
    "    print('Concatenation completed')\n",
    "else:\n",
    "    print('No .xlsx files found in the specified folder.')\n",
    "\n"
   ]
  }
 ],
 "metadata": {
  "kernelspec": {
   "display_name": "Python 3 (ipykernel)",
   "language": "python",
   "name": "python3"
  },
  "language_info": {
   "codemirror_mode": {
    "name": "ipython",
    "version": 3
   },
   "file_extension": ".py",
   "mimetype": "text/x-python",
   "name": "python",
   "nbconvert_exporter": "python",
   "pygments_lexer": "ipython3",
   "version": "3.11.4"
  }
 },
 "nbformat": 4,
 "nbformat_minor": 5
}
